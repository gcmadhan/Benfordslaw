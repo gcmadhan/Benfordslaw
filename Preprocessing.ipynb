{
 "cells": [
  {
   "cell_type": "code",
   "execution_count": 1,
   "metadata": {},
   "outputs": [],
   "source": [
    "import pandas as pd"
   ]
  },
  {
   "cell_type": "code",
   "execution_count": 6,
   "metadata": {},
   "outputs": [],
   "source": [
    "fraud = pd.read_excel('fraudulent 38.xlsx', converters={'Global Company Key':str})"
   ]
  },
  {
   "cell_type": "code",
   "execution_count": 7,
   "metadata": {},
   "outputs": [
    {
     "data": {
      "text/html": [
       "<div>\n",
       "<style scoped>\n",
       "    .dataframe tbody tr th:only-of-type {\n",
       "        vertical-align: middle;\n",
       "    }\n",
       "\n",
       "    .dataframe tbody tr th {\n",
       "        vertical-align: top;\n",
       "    }\n",
       "\n",
       "    .dataframe thead th {\n",
       "        text-align: right;\n",
       "    }\n",
       "</style>\n",
       "<table border=\"1\" class=\"dataframe\">\n",
       "  <thead>\n",
       "    <tr style=\"text-align: right;\">\n",
       "      <th></th>\n",
       "      <th>Global Company Key</th>\n",
       "      <th>Data Date</th>\n",
       "      <th>Data Year - Fiscal</th>\n",
       "      <th>Industry Format</th>\n",
       "      <th>Level of Consolidation - Company Annual Descriptor</th>\n",
       "      <th>Population Source</th>\n",
       "      <th>Data Format</th>\n",
       "      <th>Ticker Symbol</th>\n",
       "      <th>ISO Currency Code</th>\n",
       "      <th>Assets - Total</th>\n",
       "      <th>Active/Inactive Status Marker</th>\n",
       "      <th>GIC Industries</th>\n",
       "    </tr>\n",
       "  </thead>\n",
       "  <tbody>\n",
       "    <tr>\n",
       "      <th>0</th>\n",
       "      <td>030477</td>\n",
       "      <td>2010-09-30</td>\n",
       "      <td>2010.0</td>\n",
       "      <td>INDL</td>\n",
       "      <td>C</td>\n",
       "      <td>D</td>\n",
       "      <td>STD</td>\n",
       "      <td>MATW</td>\n",
       "      <td>USD</td>\n",
       "      <td>993.825</td>\n",
       "      <td>A</td>\n",
       "      <td>202010</td>\n",
       "    </tr>\n",
       "    <tr>\n",
       "      <th>1</th>\n",
       "      <td>030477</td>\n",
       "      <td>2011-09-30</td>\n",
       "      <td>2011.0</td>\n",
       "      <td>INDL</td>\n",
       "      <td>C</td>\n",
       "      <td>D</td>\n",
       "      <td>STD</td>\n",
       "      <td>MATW</td>\n",
       "      <td>USD</td>\n",
       "      <td>1097.455</td>\n",
       "      <td>A</td>\n",
       "      <td>202010</td>\n",
       "    </tr>\n",
       "    <tr>\n",
       "      <th>2</th>\n",
       "      <td>030477</td>\n",
       "      <td>2012-09-30</td>\n",
       "      <td>2012.0</td>\n",
       "      <td>INDL</td>\n",
       "      <td>C</td>\n",
       "      <td>D</td>\n",
       "      <td>STD</td>\n",
       "      <td>MATW</td>\n",
       "      <td>USD</td>\n",
       "      <td>1128.042</td>\n",
       "      <td>A</td>\n",
       "      <td>202010</td>\n",
       "    </tr>\n",
       "    <tr>\n",
       "      <th>3</th>\n",
       "      <td>030477</td>\n",
       "      <td>2013-09-30</td>\n",
       "      <td>2013.0</td>\n",
       "      <td>INDL</td>\n",
       "      <td>C</td>\n",
       "      <td>D</td>\n",
       "      <td>STD</td>\n",
       "      <td>MATW</td>\n",
       "      <td>USD</td>\n",
       "      <td>1214.927</td>\n",
       "      <td>A</td>\n",
       "      <td>202010</td>\n",
       "    </tr>\n",
       "    <tr>\n",
       "      <th>4</th>\n",
       "      <td>030477</td>\n",
       "      <td>2014-09-30</td>\n",
       "      <td>2014.0</td>\n",
       "      <td>INDL</td>\n",
       "      <td>C</td>\n",
       "      <td>D</td>\n",
       "      <td>STD</td>\n",
       "      <td>MATW</td>\n",
       "      <td>USD</td>\n",
       "      <td>2024.048</td>\n",
       "      <td>A</td>\n",
       "      <td>202010</td>\n",
       "    </tr>\n",
       "    <tr>\n",
       "      <th>...</th>\n",
       "      <td>...</td>\n",
       "      <td>...</td>\n",
       "      <td>...</td>\n",
       "      <td>...</td>\n",
       "      <td>...</td>\n",
       "      <td>...</td>\n",
       "      <td>...</td>\n",
       "      <td>...</td>\n",
       "      <td>...</td>\n",
       "      <td>...</td>\n",
       "      <td>...</td>\n",
       "      <td>...</td>\n",
       "    </tr>\n",
       "    <tr>\n",
       "      <th>111</th>\n",
       "      <td>008247</td>\n",
       "      <td>2018-12-31</td>\n",
       "      <td>2018.0</td>\n",
       "      <td>INDL</td>\n",
       "      <td>C</td>\n",
       "      <td>D</td>\n",
       "      <td>STD</td>\n",
       "      <td>PPG</td>\n",
       "      <td>USD</td>\n",
       "      <td>16015.000</td>\n",
       "      <td>A</td>\n",
       "      <td>151010</td>\n",
       "    </tr>\n",
       "    <tr>\n",
       "      <th>112</th>\n",
       "      <td>025776</td>\n",
       "      <td>2017-06-30</td>\n",
       "      <td>2017.0</td>\n",
       "      <td>INDL</td>\n",
       "      <td>C</td>\n",
       "      <td>D</td>\n",
       "      <td>STD</td>\n",
       "      <td>SFEG</td>\n",
       "      <td>USD</td>\n",
       "      <td>1.228</td>\n",
       "      <td>I</td>\n",
       "      <td>151040</td>\n",
       "    </tr>\n",
       "    <tr>\n",
       "      <th>113</th>\n",
       "      <td>014913</td>\n",
       "      <td>2019-02-28</td>\n",
       "      <td>2018.0</td>\n",
       "      <td>INDL</td>\n",
       "      <td>C</td>\n",
       "      <td>D</td>\n",
       "      <td>STD</td>\n",
       "      <td>AUSI</td>\n",
       "      <td>USD</td>\n",
       "      <td>0.668</td>\n",
       "      <td>A</td>\n",
       "      <td>201040</td>\n",
       "    </tr>\n",
       "    <tr>\n",
       "      <th>114</th>\n",
       "      <td>025166</td>\n",
       "      <td>2015-12-31</td>\n",
       "      <td>2015.0</td>\n",
       "      <td>INDL</td>\n",
       "      <td>C</td>\n",
       "      <td>D</td>\n",
       "      <td>STD</td>\n",
       "      <td>KOPN</td>\n",
       "      <td>USD</td>\n",
       "      <td>106.060</td>\n",
       "      <td>A</td>\n",
       "      <td>453010</td>\n",
       "    </tr>\n",
       "    <tr>\n",
       "      <th>115</th>\n",
       "      <td>025166</td>\n",
       "      <td>2016-12-31</td>\n",
       "      <td>2016.0</td>\n",
       "      <td>INDL</td>\n",
       "      <td>C</td>\n",
       "      <td>D</td>\n",
       "      <td>STD</td>\n",
       "      <td>KOPN</td>\n",
       "      <td>USD</td>\n",
       "      <td>87.832</td>\n",
       "      <td>A</td>\n",
       "      <td>453010</td>\n",
       "    </tr>\n",
       "  </tbody>\n",
       "</table>\n",
       "<p>116 rows × 12 columns</p>\n",
       "</div>"
      ],
      "text/plain": [
       "    Global Company Key  Data Date  Data Year - Fiscal Industry Format  \\\n",
       "0               030477 2010-09-30              2010.0            INDL   \n",
       "1               030477 2011-09-30              2011.0            INDL   \n",
       "2               030477 2012-09-30              2012.0            INDL   \n",
       "3               030477 2013-09-30              2013.0            INDL   \n",
       "4               030477 2014-09-30              2014.0            INDL   \n",
       "..                 ...        ...                 ...             ...   \n",
       "111             008247 2018-12-31              2018.0            INDL   \n",
       "112             025776 2017-06-30              2017.0            INDL   \n",
       "113             014913 2019-02-28              2018.0            INDL   \n",
       "114             025166 2015-12-31              2015.0            INDL   \n",
       "115             025166 2016-12-31              2016.0            INDL   \n",
       "\n",
       "    Level of Consolidation - Company Annual Descriptor Population Source  \\\n",
       "0                                                    C                 D   \n",
       "1                                                    C                 D   \n",
       "2                                                    C                 D   \n",
       "3                                                    C                 D   \n",
       "4                                                    C                 D   \n",
       "..                                                 ...               ...   \n",
       "111                                                  C                 D   \n",
       "112                                                  C                 D   \n",
       "113                                                  C                 D   \n",
       "114                                                  C                 D   \n",
       "115                                                  C                 D   \n",
       "\n",
       "    Data Format Ticker Symbol ISO Currency Code  Assets - Total  \\\n",
       "0           STD          MATW               USD         993.825   \n",
       "1           STD          MATW               USD        1097.455   \n",
       "2           STD          MATW               USD        1128.042   \n",
       "3           STD          MATW               USD        1214.927   \n",
       "4           STD          MATW               USD        2024.048   \n",
       "..          ...           ...               ...             ...   \n",
       "111         STD           PPG               USD       16015.000   \n",
       "112         STD          SFEG               USD           1.228   \n",
       "113         STD          AUSI               USD           0.668   \n",
       "114         STD          KOPN               USD         106.060   \n",
       "115         STD          KOPN               USD          87.832   \n",
       "\n",
       "    Active/Inactive Status Marker  GIC Industries  \n",
       "0                               A          202010  \n",
       "1                               A          202010  \n",
       "2                               A          202010  \n",
       "3                               A          202010  \n",
       "4                               A          202010  \n",
       "..                            ...             ...  \n",
       "111                             A          151010  \n",
       "112                             I          151040  \n",
       "113                             A          201040  \n",
       "114                             A          453010  \n",
       "115                             A          453010  \n",
       "\n",
       "[116 rows x 12 columns]"
      ]
     },
     "execution_count": 7,
     "metadata": {},
     "output_type": "execute_result"
    }
   ],
   "source": [
    "fraud"
   ]
  },
  {
   "cell_type": "code",
   "execution_count": 8,
   "metadata": {},
   "outputs": [
    {
     "name": "stdout",
     "output_type": "stream",
     "text": [
      "<class 'pandas.core.frame.DataFrame'>\n",
      "RangeIndex: 116 entries, 0 to 115\n",
      "Data columns (total 12 columns):\n",
      " #   Column                                              Non-Null Count  Dtype         \n",
      "---  ------                                              --------------  -----         \n",
      " 0   Global Company Key                                  116 non-null    object        \n",
      " 1   Data Date                                           116 non-null    datetime64[ns]\n",
      " 2   Data Year - Fiscal                                  114 non-null    float64       \n",
      " 3   Industry Format                                     116 non-null    object        \n",
      " 4   Level of Consolidation - Company Annual Descriptor  116 non-null    object        \n",
      " 5   Population Source                                   116 non-null    object        \n",
      " 6   Data Format                                         116 non-null    object        \n",
      " 7   Ticker Symbol                                       116 non-null    object        \n",
      " 8   ISO Currency Code                                   114 non-null    object        \n",
      " 9   Assets - Total                                      114 non-null    float64       \n",
      " 10  Active/Inactive Status Marker                       116 non-null    object        \n",
      " 11  GIC Industries                                      116 non-null    int64         \n",
      "dtypes: datetime64[ns](1), float64(2), int64(1), object(8)\n",
      "memory usage: 11.0+ KB\n"
     ]
    }
   ],
   "source": [
    "fraud.info()"
   ]
  },
  {
   "cell_type": "code",
   "execution_count": 24,
   "metadata": {},
   "outputs": [
    {
     "data": {
      "text/plain": [
       "29"
      ]
     },
     "execution_count": 24,
     "metadata": {},
     "output_type": "execute_result"
    }
   ],
   "source": [
    "fraud['GIC Industries'].nunique()"
   ]
  },
  {
   "cell_type": "markdown",
   "metadata": {},
   "source": [
    "There are 29 unique GIC Industries id"
   ]
  },
  {
   "cell_type": "code",
   "execution_count": 11,
   "metadata": {},
   "outputs": [],
   "source": [
    "import seaborn as sns\n",
    "import matplotlib.pyplot as plt"
   ]
  },
  {
   "cell_type": "code",
   "execution_count": 12,
   "metadata": {},
   "outputs": [
    {
     "data": {
      "text/plain": [
       "<AxesSubplot:xlabel='GIC Industries', ylabel='count'>"
      ]
     },
     "execution_count": 12,
     "metadata": {},
     "output_type": "execute_result"
    },
    {
     "data": {
      "image/png": "[encoded data removed]",
      "text/plain": [
       "<Figure size 640x480 with 1 Axes>"
      ]
     },
     "metadata": {},
     "output_type": "display_data"
    }
   ],
   "source": [
    "sns.countplot(data=fraud, x='GIC Industries')"
   ]
  },
  {
   "cell_type": "code",
   "execution_count": 21,
   "metadata": {},
   "outputs": [],
   "source": [
    "#getting unique GIC id to filter from non-fraudulent dataset\n",
    "unique_fraud_GIC = fraud['GIC Industries'].unique()\n"
   ]
  },
  {
   "cell_type": "code",
   "execution_count": 23,
   "metadata": {},
   "outputs": [
    {
     "data": {
      "text/plain": [
       "29"
      ]
     },
     "execution_count": 23,
     "metadata": {},
     "output_type": "execute_result"
    }
   ],
   "source": [
    "len(unique_fraud_GIC)"
   ]
  },
  {
   "cell_type": "code",
   "execution_count": 27,
   "metadata": {},
   "outputs": [
    {
     "name": "stderr",
     "output_type": "stream",
     "text": [
      "C:\\Users\\F14EIYF\\AppData\\Local\\Temp\\2\\ipykernel_14984\\2977380592.py:1: FutureWarning: The default value of numeric_only in DataFrameGroupBy.sum is deprecated. In a future version, numeric_only will default to False. Either specify numeric_only or select only columns which should be valid for the function.\n",
      "  df_GIC=fraud.groupby(['GIC Industries']).sum()['Assets - Total'].to_frame().reset_index()\n"
     ]
    }
   ],
   "source": [
    "df_GIC=fraud.groupby(['GIC Industries']).sum()['Assets - Total'].to_frame().reset_index()"
   ]
  },
  {
   "cell_type": "code",
   "execution_count": 28,
   "metadata": {},
   "outputs": [
    {
     "data": {
      "text/html": [
       "<div>\n",
       "<style scoped>\n",
       "    .dataframe tbody tr th:only-of-type {\n",
       "        vertical-align: middle;\n",
       "    }\n",
       "\n",
       "    .dataframe tbody tr th {\n",
       "        vertical-align: top;\n",
       "    }\n",
       "\n",
       "    .dataframe thead th {\n",
       "        text-align: right;\n",
       "    }\n",
       "</style>\n",
       "<table border=\"1\" class=\"dataframe\">\n",
       "  <thead>\n",
       "    <tr style=\"text-align: right;\">\n",
       "      <th></th>\n",
       "      <th>GIC Industries</th>\n",
       "      <th>Assets - Total</th>\n",
       "    </tr>\n",
       "  </thead>\n",
       "  <tbody>\n",
       "    <tr>\n",
       "      <th>0</th>\n",
       "      <td>151010</td>\n",
       "      <td>142707.691</td>\n",
       "    </tr>\n",
       "    <tr>\n",
       "      <th>1</th>\n",
       "      <td>151030</td>\n",
       "      <td>16369.536</td>\n",
       "    </tr>\n",
       "    <tr>\n",
       "      <th>2</th>\n",
       "      <td>151040</td>\n",
       "      <td>1.228</td>\n",
       "    </tr>\n",
       "    <tr>\n",
       "      <th>3</th>\n",
       "      <td>201010</td>\n",
       "      <td>2296.872</td>\n",
       "    </tr>\n",
       "    <tr>\n",
       "      <th>4</th>\n",
       "      <td>201020</td>\n",
       "      <td>60560.000</td>\n",
       "    </tr>\n",
       "    <tr>\n",
       "      <th>5</th>\n",
       "      <td>201040</td>\n",
       "      <td>164.362</td>\n",
       "    </tr>\n",
       "    <tr>\n",
       "      <th>6</th>\n",
       "      <td>201060</td>\n",
       "      <td>1809.534</td>\n",
       "    </tr>\n",
       "    <tr>\n",
       "      <th>7</th>\n",
       "      <td>202010</td>\n",
       "      <td>6458.297</td>\n",
       "    </tr>\n",
       "    <tr>\n",
       "      <th>8</th>\n",
       "      <td>202020</td>\n",
       "      <td>3801.926</td>\n",
       "    </tr>\n",
       "    <tr>\n",
       "      <th>9</th>\n",
       "      <td>203010</td>\n",
       "      <td>245.147</td>\n",
       "    </tr>\n",
       "    <tr>\n",
       "      <th>10</th>\n",
       "      <td>203040</td>\n",
       "      <td>5615.168</td>\n",
       "    </tr>\n",
       "    <tr>\n",
       "      <th>11</th>\n",
       "      <td>251010</td>\n",
       "      <td>20995.000</td>\n",
       "    </tr>\n",
       "    <tr>\n",
       "      <th>12</th>\n",
       "      <td>252010</td>\n",
       "      <td>10750.600</td>\n",
       "    </tr>\n",
       "    <tr>\n",
       "      <th>13</th>\n",
       "      <td>252020</td>\n",
       "      <td>23295.748</td>\n",
       "    </tr>\n",
       "    <tr>\n",
       "      <th>14</th>\n",
       "      <td>253010</td>\n",
       "      <td>12.445</td>\n",
       "    </tr>\n",
       "    <tr>\n",
       "      <th>15</th>\n",
       "      <td>301010</td>\n",
       "      <td>33228.865</td>\n",
       "    </tr>\n",
       "    <tr>\n",
       "      <th>16</th>\n",
       "      <td>302020</td>\n",
       "      <td>467277.194</td>\n",
       "    </tr>\n",
       "    <tr>\n",
       "      <th>17</th>\n",
       "      <td>303020</td>\n",
       "      <td>125.281</td>\n",
       "    </tr>\n",
       "    <tr>\n",
       "      <th>18</th>\n",
       "      <td>351010</td>\n",
       "      <td>94.129</td>\n",
       "    </tr>\n",
       "    <tr>\n",
       "      <th>19</th>\n",
       "      <td>351020</td>\n",
       "      <td>4939.792</td>\n",
       "    </tr>\n",
       "    <tr>\n",
       "      <th>20</th>\n",
       "      <td>352010</td>\n",
       "      <td>441.514</td>\n",
       "    </tr>\n",
       "    <tr>\n",
       "      <th>21</th>\n",
       "      <td>352020</td>\n",
       "      <td>75332.180</td>\n",
       "    </tr>\n",
       "    <tr>\n",
       "      <th>22</th>\n",
       "      <td>402030</td>\n",
       "      <td>2613.834</td>\n",
       "    </tr>\n",
       "    <tr>\n",
       "      <th>23</th>\n",
       "      <td>403010</td>\n",
       "      <td>61890.600</td>\n",
       "    </tr>\n",
       "    <tr>\n",
       "      <th>24</th>\n",
       "      <td>451010</td>\n",
       "      <td>96.785</td>\n",
       "    </tr>\n",
       "    <tr>\n",
       "      <th>25</th>\n",
       "      <td>451020</td>\n",
       "      <td>171.643</td>\n",
       "    </tr>\n",
       "    <tr>\n",
       "      <th>26</th>\n",
       "      <td>451030</td>\n",
       "      <td>102.258</td>\n",
       "    </tr>\n",
       "    <tr>\n",
       "      <th>27</th>\n",
       "      <td>453010</td>\n",
       "      <td>5059.351</td>\n",
       "    </tr>\n",
       "    <tr>\n",
       "      <th>28</th>\n",
       "      <td>601010</td>\n",
       "      <td>26349.489</td>\n",
       "    </tr>\n",
       "  </tbody>\n",
       "</table>\n",
       "</div>"
      ],
      "text/plain": [
       "    GIC Industries  Assets - Total\n",
       "0           151010      142707.691\n",
       "1           151030       16369.536\n",
       "2           151040           1.228\n",
       "3           201010        2296.872\n",
       "4           201020       60560.000\n",
       "5           201040         164.362\n",
       "6           201060        1809.534\n",
       "7           202010        6458.297\n",
       "8           202020        3801.926\n",
       "9           203010         245.147\n",
       "10          203040        5615.168\n",
       "11          251010       20995.000\n",
       "12          252010       10750.600\n",
       "13          252020       23295.748\n",
       "14          253010          12.445\n",
       "15          301010       33228.865\n",
       "16          302020      467277.194\n",
       "17          303020         125.281\n",
       "18          351010          94.129\n",
       "19          351020        4939.792\n",
       "20          352010         441.514\n",
       "21          352020       75332.180\n",
       "22          402030        2613.834\n",
       "23          403010       61890.600\n",
       "24          451010          96.785\n",
       "25          451020         171.643\n",
       "26          451030         102.258\n",
       "27          453010        5059.351\n",
       "28          601010       26349.489"
      ]
     },
     "execution_count": 28,
     "metadata": {},
     "output_type": "execute_result"
    }
   ],
   "source": [
    "df_GIC"
   ]
  },
  {
   "cell_type": "code",
   "execution_count": 53,
   "metadata": {},
   "outputs": [
    {
     "data": {
      "image/png": "[encoded data removed]",
      "text/plain": [
       "<Figure size 1600x600 with 1 Axes>"
      ]
     },
     "metadata": {},
     "output_type": "display_data"
    }
   ],
   "source": [
    "fig = plt.figure(figsize=(16,6))\n",
    "\n",
    "ax=sns.barplot(data=df_GIC,x='GIC Industries', y='Assets - Total')\n",
    "plt.xticks(rotation=95);"
   ]
  },
  {
   "cell_type": "markdown",
   "metadata": {},
   "source": [
    "Read entire database"
   ]
  },
  {
   "cell_type": "code",
   "execution_count": 54,
   "metadata": {},
   "outputs": [],
   "source": [
    "df = pd.read_excel(\"entire database.xl.xlsx\", converters={'Global Company Key':str})"
   ]
  },
  {
   "cell_type": "code",
   "execution_count": 60,
   "metadata": {},
   "outputs": [
    {
     "data": {
      "text/plain": [
       "(8072,)"
      ]
     },
     "execution_count": 60,
     "metadata": {},
     "output_type": "execute_result"
    }
   ],
   "source": [
    "df[df['GIC Industries'].isin(df_GIC['GIC Industries'])]['Global Company Key'].unique().shape"
   ]
  },
  {
   "cell_type": "markdown",
   "metadata": {},
   "source": [
    "There are 8072 company ids matching Fraudulent GIC Industry id"
   ]
  },
  {
   "cell_type": "code",
   "execution_count": 62,
   "metadata": {},
   "outputs": [
    {
     "data": {
      "text/plain": [
       "(11724,)"
      ]
     },
     "execution_count": 62,
     "metadata": {},
     "output_type": "execute_result"
    }
   ],
   "source": [
    "df[~df['GIC Industries'].isin(df_GIC['GIC Industries'])]['Global Company Key'].unique().shape"
   ]
  },
  {
   "cell_type": "markdown",
   "metadata": {},
   "source": [
    "There are 11724 Company key not matching Fraudulent GIC industry Id"
   ]
  }
 ],
 "metadata": {
  "kernelspec": {
   "display_name": "Python 3.10.4 64-bit",
   "language": "python",
   "name": "python3"
  },
  "language_info": {
   "codemirror_mode": {
    "name": "ipython",
    "version": 3
   },
   "file_extension": ".py",
   "mimetype": "text/x-python",
   "name": "python",
   "nbconvert_exporter": "python",
   "pygments_lexer": "ipython3",
   "version": "3.10.4"
  },
  "orig_nbformat": 4,
  "vscode": {
   "interpreter": {
    "hash": "26de051ba29f2982a8de78e945f0abaf191376122a1563185a90213a26c5da77"
   }
  }
 },
 "nbformat": 4,
 "nbformat_minor": 2
}
